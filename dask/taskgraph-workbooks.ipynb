{
 "cells": [
  {
   "cell_type": "markdown",
   "metadata": {},
   "source": [
    "## This notebook is meant for you to play around with!\n",
    "## Try investigating `.dask` and other aspects of the taskgraphs below!"
   ]
  },
  {
   "cell_type": "code",
   "execution_count": null,
   "metadata": {},
   "outputs": [],
   "source": [
    "import dask\n",
    "from dask.threaded import get\n",
    "from dask.local import get_sync\n",
    "from dask.optimization import cull, inline, inline_functions, fuse\n",
    "\n",
    "def print_and_return(string):\n",
    "    print(string)\n",
    "    return string\n",
    "\n",
    "def format_str(count, val, nwords):\n",
    "    return (f'word list has {count} occurrences of '\n",
    "            f'{val}, out of {nwords} words')\n",
    "\n",
    "dsk = {'words': 'apple orange apple pear orange pear pear',\n",
    "       'nwords': (len, (str.split, 'words')),\n",
    "       'val1': 'orange',\n",
    "       'val2': 'apple',\n",
    "       'val3': 'pear',\n",
    "       'count1': (str.count, 'words', 'val1'),\n",
    "       'count2': (str.count, 'words', 'val2'),\n",
    "       'count3': (str.count, 'words', 'val3'),\n",
    "       'format1': (format_str, 'count1', 'val1', 'nwords'),\n",
    "       'format2': (format_str, 'count2', 'val2', 'nwords'),\n",
    "       'format3': (format_str, 'count3', 'val3', 'nwords'),\n",
    "       'print1': (print_and_return, 'format1'),\n",
    "       'print2': (print_and_return, 'format2'),\n",
    "       'print3': (print_and_return, 'format3')}"
   ]
  },
  {
   "cell_type": "code",
   "execution_count": null,
   "metadata": {},
   "outputs": [],
   "source": [
    "dask.base.visualize_dsk(dsk, verbose=True)"
   ]
  },
  {
   "cell_type": "code",
   "execution_count": null,
   "metadata": {},
   "outputs": [],
   "source": [
    "outputs = ['print1', 'print2']\n",
    "dsk1, dependencies = cull(dsk, outputs)  # remove unnecessary tasks from the graph\n",
    "\n",
    "results = get_sync(dsk1, outputs)\n",
    "\n",
    "dask.base.visualize_dsk(dsk1, verbose=True)"
   ]
  },
  {
   "cell_type": "code",
   "execution_count": null,
   "metadata": {},
   "outputs": [],
   "source": [
    "dsk2 = inline(dsk1, dependencies=dependencies)\n",
    "results = get_sync(dsk2, outputs)\n",
    "\n",
    "dask.base.visualize_dsk(dsk2, verbose=True)"
   ]
  },
  {
   "cell_type": "code",
   "execution_count": null,
   "metadata": {},
   "outputs": [],
   "source": [
    "dsk3 = inline_functions(dsk2, outputs, [len, str.split], dependencies=dependencies)\n",
    "results = get_sync(dsk3, outputs)\n",
    "\n",
    "dask.base.visualize_dsk(dsk3, verbose=True)"
   ]
  },
  {
   "cell_type": "code",
   "execution_count": null,
   "metadata": {},
   "outputs": [],
   "source": [
    "dsk4, dependencies = fuse(dsk3)\n",
    "results = get_sync(dsk4, outputs)\n",
    "\n",
    "dask.base.visualize_dsk(dsk4, verbose=True)"
   ]
  },
  {
   "cell_type": "code",
   "execution_count": null,
   "metadata": {},
   "outputs": [],
   "source": [
    "def optimize(dsk, keys):\n",
    "    dsk1, deps = cull(dsk, keys)\n",
    "    dsk2 = inline(dsk1, dependencies=deps)\n",
    "    dsk3 = inline_functions(dsk2, keys, [len, str.split],\n",
    "                            dependencies=deps)\n",
    "    dsk4, deps = fuse(dsk3)\n",
    "    return dsk4, deps\n",
    "\n",
    "def optimize_and_get(dsk, keys):    \n",
    "    dsk4, deps = fuse(dsk, keys)\n",
    "    return get(dsk4, keys)\n",
    "\n",
    "optimize_and_get(dsk, outputs)"
   ]
  },
  {
   "cell_type": "code",
   "execution_count": null,
   "metadata": {},
   "outputs": [],
   "source": [
    "dask.base.visualize_dsk(dsk, verbose=True, color=\"order\")"
   ]
  },
  {
   "cell_type": "code",
   "execution_count": null,
   "metadata": {},
   "outputs": [],
   "source": [
    "dsk5, _ = optimize(dsk, outputs)\n",
    "\n",
    "dask.base.visualize_dsk(dsk5, verbose=True, color=\"order\")"
   ]
  },
  {
   "cell_type": "code",
   "execution_count": 2,
   "metadata": {},
   "outputs": [],
   "source": []
  }
 ],
 "metadata": {
  "kernelspec": {
   "display_name": "Python 3 (ipykernel)",
   "language": "python",
   "name": "python3"
  },
  "language_info": {
   "codemirror_mode": {
    "name": "ipython",
    "version": 3
   },
   "file_extension": ".py",
   "mimetype": "text/x-python",
   "name": "python",
   "nbconvert_exporter": "python",
   "pygments_lexer": "ipython3",
   "version": "3.12.10"
  }
 },
 "nbformat": 4,
 "nbformat_minor": 4
}
